{
 "cells": [
  {
   "cell_type": "markdown",
   "metadata": {},
   "source": [
    "#### CSC 180  Intelligent Systems (Spring 2021)\n",
    "\n",
    "#### Dr. Haiquan Chen, Dept of Computer Scicence\n",
    "\n",
    "#### California State University, Sacramento\n",
    "\n"
   ]
  },
  {
   "cell_type": "markdown",
   "metadata": {},
   "source": [
    "## Lab 5: Tensorflow Introduction\n",
    "\n"
   ]
  },
  {
   "cell_type": "markdown",
   "metadata": {},
   "source": [
    "# Helpful Functions for Tensorflow (little gems)\n",
    "\n",
    "The following functions will be used with TensorFlow to help preprocess the data.  They allow you to build the feature vector for a neural network. \n",
    "\n",
    "* Predictors/Inputs \n",
    "    * Fill any missing inputs with the median for that column.  Use **missing_median**.\n",
    "    * Encode textual/categorical values with **encode_text_dummy**.\n",
    "    * Encode numeric values with **encode_numeric_zscore**.\n",
    "* Output\n",
    "    * Discard rows with missing outputs.\n",
    "    * Encode textual/categorical values with **encode_text_index**.\n",
    "    * Do not encode output numeric values.\n",
    "* Produce final feature vectors (x) and expected output (y) with **to_xy**."
   ]
  },
  {
   "cell_type": "code",
   "execution_count": 1,
   "metadata": {},
   "outputs": [],
   "source": [
    "from collections.abc import Sequence\n",
    "from sklearn import preprocessing\n",
    "import matplotlib.pyplot as plt\n",
    "import numpy as np\n",
    "import pandas as pd\n",
    "import shutil\n",
    "import os\n",
    "\n",
    "\n",
    "# Encode text values to dummy variables(i.e. [1,0,0],[0,1,0],[0,0,1] for red,green,blue)\n",
    "def encode_text_dummy(df, name):\n",
    "    dummies = pd.get_dummies(df[name])\n",
    "    for x in dummies.columns:\n",
    "        dummy_name = \"{}-{}\".format(name, x)\n",
    "        df[dummy_name] = dummies[x]\n",
    "    df.drop(name, axis=1, inplace=True)\n",
    "\n",
    "\n",
    "\n",
    "# Encode text values to indexes(i.e. [1],[2],[3] for red,green,blue).\n",
    "def encode_text_index(df, name):\n",
    "    le = preprocessing.LabelEncoder()\n",
    "    df[name] = le.fit_transform(df[name])\n",
    "    return le.classes_\n",
    "\n",
    "\n",
    "# Encode a numeric column as zscores\n",
    "def encode_numeric_zscore(df, name, mean=None, sd=None):\n",
    "    if mean is None:\n",
    "        mean = df[name].mean()\n",
    "\n",
    "    if sd is None:\n",
    "        sd = df[name].std()\n",
    "\n",
    "    df[name] = (df[name] - mean) / sd\n",
    "\n",
    "\n",
    "# Convert all missing values in the specified column to the median\n",
    "def missing_median(df, name):\n",
    "    med = df[name].median()\n",
    "    df[name] = df[name].fillna(med)\n",
    "\n",
    "\n",
    "# Convert all missing values in the specified column to the default\n",
    "def missing_default(df, name, default_value):\n",
    "    df[name] = df[name].fillna(default_value)\n",
    "\n",
    "\n",
    "# Convert a Pandas dataframe to the x,y inputs that TensorFlow needs\n",
    "def to_xy(df, target):\n",
    "    result = []\n",
    "    for x in df.columns:\n",
    "        if x != target:\n",
    "            result.append(x)\n",
    "    # find out the type of the target column. \n",
    "    target_type = df[target].dtypes\n",
    "    target_type = target_type[0] if isinstance(target_type, Sequence) else target_type\n",
    "    # Encode to int for classification, float otherwise. TensorFlow likes 32 bits.\n",
    "    if target_type in (np.int64, np.int32):\n",
    "        # Classification\n",
    "        dummies = pd.get_dummies(df[target])\n",
    "        return df[result].values.astype(np.float32), dummies.values.astype(np.float32)\n",
    "    else:\n",
    "        # Regression\n",
    "        return df[result].values.astype(np.float32), df[target].values.astype(np.float32)\n",
    "\n",
    "# Nicely formatted time string\n",
    "def hms_string(sec_elapsed):\n",
    "    h = int(sec_elapsed / (60 * 60))\n",
    "    m = int((sec_elapsed % (60 * 60)) / 60)\n",
    "    s = sec_elapsed % 60\n",
    "    return \"{}:{:>02}:{:>05.2f}\".format(h, m, s)\n",
    "\n",
    "\n",
    "# Regression chart.\n",
    "def chart_regression(pred,y,sort=True):\n",
    "    t = pd.DataFrame({'pred' : pred, 'y' : y.flatten()})\n",
    "    if sort:\n",
    "        t.sort_values(by=['y'],inplace=True)\n",
    "    a = plt.plot(t['y'].tolist(),label='expected')\n",
    "    b = plt.plot(t['pred'].tolist(),label='prediction')\n",
    "    plt.ylabel('output')\n",
    "    plt.legend()\n",
    "    plt.show()\n",
    "\n",
    "# Remove all rows where the specified column is +/- sd standard deviations\n",
    "def remove_outliers(df, name, sd):\n",
    "    drop_rows = df.index[(np.abs(df[name] - df[name].mean()) >= (sd * df[name].std()))]\n",
    "    df.drop(drop_rows, axis=0, inplace=True)\n",
    "\n",
    "\n",
    "# Encode a column to a range between normalized_low and normalized_high.\n",
    "def encode_numeric_range(df, name, normalized_low=-1, normalized_high=1,\n",
    "                         data_low=None, data_high=None):\n",
    "    if data_low is None:\n",
    "        data_low = min(df[name])\n",
    "        data_high = max(df[name])\n",
    "\n",
    "    df[name] = ((df[name] - data_low) / (data_high - data_low)) \\\n",
    "               * (normalized_high - normalized_low) + normalized_low\n"
   ]
  },
  {
   "cell_type": "markdown",
   "metadata": {},
   "source": [
    "# Classification or Regression\n",
    "\n",
    "Neural networks can function in *** classification or regression***:\n",
    "\n",
    "* **Regression** - You expect a number as your neural network's prediction.\n",
    "* **Classification** - You expect a class/category as your neural network's prediction.\n",
    "\n",
    "\n",
    "Regression networks always have a single output neuron.  Classification neural networks have an output neuron for each class. \n",
    "\n",
    "These neurons are grouped into layers:\n",
    "\n",
    "* **Input Layer** - The input layer accepts feature vectors from the dataset.  Input layers usually have a bias neuron.\n",
    "* **Output Layer** - The output from the neural network.  The output layer does not have a bias neuron.\n",
    "* **Hidden Layers** - Layers that occur between the input and output layers.  Each hidden layer will usually have a bias neuron.\n"
   ]
  },
  {
   "cell_type": "markdown",
   "metadata": {},
   "source": [
    "# What version of TensorFlow do you have?\n",
    "\n",
    "TensorFlow is very new and changing rapidly. "
   ]
  },
  {
   "cell_type": "code",
   "execution_count": 2,
   "metadata": {},
   "outputs": [
    {
     "output_type": "stream",
     "name": "stdout",
     "text": [
      "Tensor Flow Version: 2.2.0\n"
     ]
    }
   ],
   "source": [
    "import tensorflow as tf\n",
    "print(\"Tensor Flow Version: {}\".format(tf.__version__))"
   ]
  },
  {
   "cell_type": "markdown",
   "metadata": {},
   "source": [
    "# Why TensorFlow\n",
    "\n",
    "* Supported by Google\n",
    "* Works well on Linux/Mac\n",
    "* Excellent GPU support\n",
    "* Most popular today"
   ]
  },
  {
   "cell_type": "markdown",
   "metadata": {},
   "source": [
    "# Using Keras\n",
    "\n",
    "[Keras](https://keras.io/) is an official high-end API, supported by Google, for Tensorflow that makes it much easier to create neural networks.    "
   ]
  },
  {
   "cell_type": "code",
   "execution_count": 3,
   "metadata": {},
   "outputs": [
    {
     "output_type": "stream",
     "name": "stdout",
     "text": [
      "Keras Version: 2.3.0-tf\n"
     ]
    }
   ],
   "source": [
    "import tensorflow.keras \n",
    "print(\"Keras Version: {}\".format(tensorflow.keras.__version__))"
   ]
  },
  {
   "cell_type": "markdown",
   "metadata": {},
   "source": [
    "# Example of TensorFlow Regression: MPG Prediction\n",
    "\n",
    "This example shows how to encode the MPG dataset for regression.  Notice that:\n",
    "\n",
    "* Input has both numeric and categorical\n",
    "* Input has missing values"
   ]
  },
  {
   "cell_type": "code",
   "execution_count": 4,
   "metadata": {},
   "outputs": [
    {
     "output_type": "execute_result",
     "data": {
      "text/plain": [
       "    mpg  cylinders  displacement  horsepower  weight  acceleration  year  \\\n",
       "0  18.0          8         307.0       130.0    3504          12.0    70   \n",
       "1  15.0          8         350.0       165.0    3693          11.5    70   \n",
       "2  18.0          8         318.0       150.0    3436          11.0    70   \n",
       "3  16.0          8         304.0       150.0    3433          12.0    70   \n",
       "4  17.0          8         302.0       140.0    3449          10.5    70   \n",
       "\n",
       "   origin                       name  \n",
       "0       1  chevrolet chevelle malibu  \n",
       "1       1          buick skylark 320  \n",
       "2       1         plymouth satellite  \n",
       "3       1              amc rebel sst  \n",
       "4       1                ford torino  "
      ],
      "text/html": "<div>\n<style scoped>\n    .dataframe tbody tr th:only-of-type {\n        vertical-align: middle;\n    }\n\n    .dataframe tbody tr th {\n        vertical-align: top;\n    }\n\n    .dataframe thead th {\n        text-align: right;\n    }\n</style>\n<table border=\"1\" class=\"dataframe\">\n  <thead>\n    <tr style=\"text-align: right;\">\n      <th></th>\n      <th>mpg</th>\n      <th>cylinders</th>\n      <th>displacement</th>\n      <th>horsepower</th>\n      <th>weight</th>\n      <th>acceleration</th>\n      <th>year</th>\n      <th>origin</th>\n      <th>name</th>\n    </tr>\n  </thead>\n  <tbody>\n    <tr>\n      <th>0</th>\n      <td>18.0</td>\n      <td>8</td>\n      <td>307.0</td>\n      <td>130.0</td>\n      <td>3504</td>\n      <td>12.0</td>\n      <td>70</td>\n      <td>1</td>\n      <td>chevrolet chevelle malibu</td>\n    </tr>\n    <tr>\n      <th>1</th>\n      <td>15.0</td>\n      <td>8</td>\n      <td>350.0</td>\n      <td>165.0</td>\n      <td>3693</td>\n      <td>11.5</td>\n      <td>70</td>\n      <td>1</td>\n      <td>buick skylark 320</td>\n    </tr>\n    <tr>\n      <th>2</th>\n      <td>18.0</td>\n      <td>8</td>\n      <td>318.0</td>\n      <td>150.0</td>\n      <td>3436</td>\n      <td>11.0</td>\n      <td>70</td>\n      <td>1</td>\n      <td>plymouth satellite</td>\n    </tr>\n    <tr>\n      <th>3</th>\n      <td>16.0</td>\n      <td>8</td>\n      <td>304.0</td>\n      <td>150.0</td>\n      <td>3433</td>\n      <td>12.0</td>\n      <td>70</td>\n      <td>1</td>\n      <td>amc rebel sst</td>\n    </tr>\n    <tr>\n      <th>4</th>\n      <td>17.0</td>\n      <td>8</td>\n      <td>302.0</td>\n      <td>140.0</td>\n      <td>3449</td>\n      <td>10.5</td>\n      <td>70</td>\n      <td>1</td>\n      <td>ford torino</td>\n    </tr>\n  </tbody>\n</table>\n</div>"
     },
     "metadata": {},
     "execution_count": 4
    }
   ],
   "source": [
    "from tensorflow.keras.models import Sequential\n",
    "from tensorflow.keras.layers import Dense, Activation\n",
    "import pandas as pd\n",
    "import io\n",
    "import requests\n",
    "import numpy as np\n",
    "from sklearn import metrics\n",
    "path = \"./data/\"\n",
    "\n",
    "filename_read = os.path.join(path,\"auto-mpg.csv\")\n",
    "df = pd.read_csv(filename_read,na_values=['NA','?'])\n",
    "\n",
    "df[0:5]"
   ]
  },
  {
   "cell_type": "code",
   "execution_count": 5,
   "metadata": {},
   "outputs": [],
   "source": [
    "cars = df['name']\n",
    "\n",
    "df.drop('name',1,inplace=True)\n",
    "\n",
    "missing_median(df, 'horsepower')\n",
    "\n",
    "encode_text_dummy(df, 'origin')\n",
    "\n",
    "x,y = to_xy(df,\"mpg\")"
   ]
  },
  {
   "cell_type": "code",
   "execution_count": 6,
   "metadata": {},
   "outputs": [
    {
     "output_type": "execute_result",
     "data": {
      "text/plain": [
       "(398, 9)"
      ]
     },
     "metadata": {},
     "execution_count": 6
    }
   ],
   "source": [
    "x.shape"
   ]
  },
  {
   "cell_type": "code",
   "execution_count": 7,
   "metadata": {},
   "outputs": [
    {
     "output_type": "execute_result",
     "data": {
      "text/plain": [
       "(398,)"
      ]
     },
     "metadata": {},
     "execution_count": 7
    }
   ],
   "source": [
    "y.shape"
   ]
  },
  {
   "cell_type": "code",
   "execution_count": 8,
   "metadata": {},
   "outputs": [
    {
     "output_type": "execute_result",
     "data": {
      "text/plain": [
       "array([[  8., 307., 130., ...,   1.,   0.,   0.],\n",
       "       [  8., 350., 165., ...,   1.,   0.,   0.],\n",
       "       [  8., 318., 150., ...,   1.,   0.,   0.],\n",
       "       ...,\n",
       "       [  4., 135.,  84., ...,   1.,   0.,   0.],\n",
       "       [  4., 120.,  79., ...,   1.,   0.,   0.],\n",
       "       [  4., 119.,  82., ...,   1.,   0.,   0.]], dtype=float32)"
      ]
     },
     "metadata": {},
     "execution_count": 8
    }
   ],
   "source": [
    "x"
   ]
  },
  {
   "cell_type": "code",
   "execution_count": 9,
   "metadata": {},
   "outputs": [
    {
     "output_type": "execute_result",
     "data": {
      "text/plain": [
       "array([18. , 15. , 18. , 16. , 17. , 15. , 14. , 14. , 14. , 15. , 15. ,\n",
       "       14. , 15. , 14. , 24. , 22. , 18. , 21. , 27. , 26. , 25. , 24. ,\n",
       "       25. , 26. , 21. , 10. , 10. , 11. ,  9. , 27. , 28. , 25. , 25. ,\n",
       "       19. , 16. , 17. , 19. , 18. , 14. , 14. , 14. , 14. , 12. , 13. ,\n",
       "       13. , 18. , 22. , 19. , 18. , 23. , 28. , 30. , 30. , 31. , 35. ,\n",
       "       27. , 26. , 24. , 25. , 23. , 20. , 21. , 13. , 14. , 15. , 14. ,\n",
       "       17. , 11. , 13. , 12. , 13. , 19. , 15. , 13. , 13. , 14. , 18. ,\n",
       "       22. , 21. , 26. , 22. , 28. , 23. , 28. , 27. , 13. , 14. , 13. ,\n",
       "       14. , 15. , 12. , 13. , 13. , 14. , 13. , 12. , 13. , 18. , 16. ,\n",
       "       18. , 18. , 23. , 26. , 11. , 12. , 13. , 12. , 18. , 20. , 21. ,\n",
       "       22. , 18. , 19. , 21. , 26. , 15. , 16. , 29. , 24. , 20. , 19. ,\n",
       "       15. , 24. , 20. , 11. , 20. , 21. , 19. , 15. , 31. , 26. , 32. ,\n",
       "       25. , 16. , 16. , 18. , 16. , 13. , 14. , 14. , 14. , 29. , 26. ,\n",
       "       26. , 31. , 32. , 28. , 24. , 26. , 24. , 26. , 31. , 19. , 18. ,\n",
       "       15. , 15. , 16. , 15. , 16. , 14. , 17. , 16. , 15. , 18. , 21. ,\n",
       "       20. , 13. , 29. , 23. , 20. , 23. , 24. , 25. , 24. , 18. , 29. ,\n",
       "       19. , 23. , 23. , 22. , 25. , 33. , 28. , 25. , 25. , 26. , 27. ,\n",
       "       17.5, 16. , 15.5, 14.5, 22. , 22. , 24. , 22.5, 29. , 24.5, 29. ,\n",
       "       33. , 20. , 18. , 18.5, 17.5, 29.5, 32. , 28. , 26.5, 20. , 13. ,\n",
       "       19. , 19. , 16.5, 16.5, 13. , 13. , 13. , 31.5, 30. , 36. , 25.5,\n",
       "       33.5, 17.5, 17. , 15.5, 15. , 17.5, 20.5, 19. , 18.5, 16. , 15.5,\n",
       "       15.5, 16. , 29. , 24.5, 26. , 25.5, 30.5, 33.5, 30. , 30.5, 22. ,\n",
       "       21.5, 21.5, 43.1, 36.1, 32.8, 39.4, 36.1, 19.9, 19.4, 20.2, 19.2,\n",
       "       20.5, 20.2, 25.1, 20.5, 19.4, 20.6, 20.8, 18.6, 18.1, 19.2, 17.7,\n",
       "       18.1, 17.5, 30. , 27.5, 27.2, 30.9, 21.1, 23.2, 23.8, 23.9, 20.3,\n",
       "       17. , 21.6, 16.2, 31.5, 29.5, 21.5, 19.8, 22.3, 20.2, 20.6, 17. ,\n",
       "       17.6, 16.5, 18.2, 16.9, 15.5, 19.2, 18.5, 31.9, 34.1, 35.7, 27.4,\n",
       "       25.4, 23. , 27.2, 23.9, 34.2, 34.5, 31.8, 37.3, 28.4, 28.8, 26.8,\n",
       "       33.5, 41.5, 38.1, 32.1, 37.2, 28. , 26.4, 24.3, 19.1, 34.3, 29.8,\n",
       "       31.3, 37. , 32.2, 46.6, 27.9, 40.8, 44.3, 43.4, 36.4, 30. , 44.6,\n",
       "       40.9, 33.8, 29.8, 32.7, 23.7, 35. , 23.6, 32.4, 27.2, 26.6, 25.8,\n",
       "       23.5, 30. , 39.1, 39. , 35.1, 32.3, 37. , 37.7, 34.1, 34.7, 34.4,\n",
       "       29.9, 33. , 34.5, 33.7, 32.4, 32.9, 31.6, 28.1, 30.7, 25.4, 24.2,\n",
       "       22.4, 26.6, 20.2, 17.6, 28. , 27. , 34. , 31. , 29. , 27. , 24. ,\n",
       "       23. , 36. , 37. , 31. , 38. , 36. , 36. , 36. , 34. , 38. , 32. ,\n",
       "       38. , 25. , 38. , 26. , 22. , 32. , 36. , 27. , 27. , 44. , 32. ,\n",
       "       28. , 31. ], dtype=float32)"
      ]
     },
     "metadata": {},
     "execution_count": 9
    }
   ],
   "source": [
    "y"
   ]
  },
  {
   "cell_type": "code",
   "execution_count": 10,
   "metadata": {
    "tags": []
   },
   "outputs": [
    {
     "output_type": "stream",
     "name": "stdout",
     "text": [
      "Epoch 1/100\n",
      "13/13 - 0s - loss: 748.9357\n",
      "Epoch 2/100\n",
      "13/13 - 0s - loss: 470.9075\n",
      "Epoch 3/100\n",
      "13/13 - 0s - loss: 411.1138\n",
      "Epoch 4/100\n",
      "13/13 - 0s - loss: 387.5242\n",
      "Epoch 5/100\n",
      "13/13 - 0s - loss: 336.0446\n",
      "Epoch 6/100\n",
      "13/13 - 0s - loss: 292.6816\n",
      "Epoch 7/100\n",
      "13/13 - 0s - loss: 262.9026\n",
      "Epoch 8/100\n",
      "13/13 - 0s - loss: 235.0570\n",
      "Epoch 9/100\n",
      "13/13 - 0s - loss: 214.4190\n",
      "Epoch 10/100\n",
      "13/13 - 0s - loss: 184.0581\n",
      "Epoch 11/100\n",
      "13/13 - 0s - loss: 170.8241\n",
      "Epoch 12/100\n",
      "13/13 - 0s - loss: 147.6512\n",
      "Epoch 13/100\n",
      "13/13 - 0s - loss: 137.6848\n",
      "Epoch 14/100\n",
      "13/13 - 0s - loss: 125.6480\n",
      "Epoch 15/100\n",
      "13/13 - 0s - loss: 124.0161\n",
      "Epoch 16/100\n",
      "13/13 - 0s - loss: 118.1772\n",
      "Epoch 17/100\n",
      "13/13 - 0s - loss: 94.1529\n",
      "Epoch 18/100\n",
      "13/13 - 0s - loss: 85.0135\n",
      "Epoch 19/100\n",
      "13/13 - 0s - loss: 77.9319\n",
      "Epoch 20/100\n",
      "13/13 - 0s - loss: 67.4475\n",
      "Epoch 21/100\n",
      "13/13 - 0s - loss: 63.4208\n",
      "Epoch 22/100\n",
      "13/13 - 0s - loss: 60.1600\n",
      "Epoch 23/100\n",
      "13/13 - 0s - loss: 55.4728\n",
      "Epoch 24/100\n",
      "13/13 - 0s - loss: 51.7988\n",
      "Epoch 25/100\n",
      "13/13 - 0s - loss: 50.3977\n",
      "Epoch 26/100\n",
      "13/13 - 0s - loss: 46.7426\n",
      "Epoch 27/100\n",
      "13/13 - 0s - loss: 44.6160\n",
      "Epoch 28/100\n",
      "13/13 - 0s - loss: 43.5707\n",
      "Epoch 29/100\n",
      "13/13 - 0s - loss: 43.2735\n",
      "Epoch 30/100\n",
      "13/13 - 0s - loss: 39.5595\n",
      "Epoch 31/100\n",
      "13/13 - 0s - loss: 41.0097\n",
      "Epoch 32/100\n",
      "13/13 - 0s - loss: 40.4233\n",
      "Epoch 33/100\n",
      "13/13 - 0s - loss: 36.7676\n",
      "Epoch 34/100\n",
      "13/13 - 0s - loss: 35.6920\n",
      "Epoch 35/100\n",
      "13/13 - 0s - loss: 35.9387\n",
      "Epoch 36/100\n",
      "13/13 - 0s - loss: 37.4895\n",
      "Epoch 37/100\n",
      "13/13 - 0s - loss: 37.6457\n",
      "Epoch 38/100\n",
      "13/13 - 0s - loss: 34.1588\n",
      "Epoch 39/100\n",
      "13/13 - 0s - loss: 31.4751\n",
      "Epoch 40/100\n",
      "13/13 - 0s - loss: 30.7195\n",
      "Epoch 41/100\n",
      "13/13 - 0s - loss: 32.3202\n",
      "Epoch 42/100\n",
      "13/13 - 0s - loss: 29.5388\n",
      "Epoch 43/100\n",
      "13/13 - 0s - loss: 29.3194\n",
      "Epoch 44/100\n",
      "13/13 - 0s - loss: 28.3178\n",
      "Epoch 45/100\n",
      "13/13 - 0s - loss: 27.9667\n",
      "Epoch 46/100\n",
      "13/13 - 0s - loss: 27.6492\n",
      "Epoch 47/100\n",
      "13/13 - 0s - loss: 27.2867\n",
      "Epoch 48/100\n",
      "13/13 - 0s - loss: 26.7587\n",
      "Epoch 49/100\n",
      "13/13 - 0s - loss: 27.5590\n",
      "Epoch 50/100\n",
      "13/13 - 0s - loss: 26.1462\n",
      "Epoch 51/100\n",
      "13/13 - 0s - loss: 26.0208\n",
      "Epoch 52/100\n",
      "13/13 - 0s - loss: 25.5012\n",
      "Epoch 53/100\n",
      "13/13 - 0s - loss: 24.8253\n",
      "Epoch 54/100\n",
      "13/13 - 0s - loss: 24.6089\n",
      "Epoch 55/100\n",
      "13/13 - 0s - loss: 25.0415\n",
      "Epoch 56/100\n",
      "13/13 - 0s - loss: 24.1933\n",
      "Epoch 57/100\n",
      "13/13 - 0s - loss: 23.8702\n",
      "Epoch 58/100\n",
      "13/13 - 0s - loss: 23.3653\n",
      "Epoch 59/100\n",
      "13/13 - 0s - loss: 25.1290\n",
      "Epoch 60/100\n",
      "13/13 - 0s - loss: 22.4562\n",
      "Epoch 61/100\n",
      "13/13 - 0s - loss: 21.9445\n",
      "Epoch 62/100\n",
      "13/13 - 0s - loss: 21.4809\n",
      "Epoch 63/100\n",
      "13/13 - 0s - loss: 21.3874\n",
      "Epoch 64/100\n",
      "13/13 - 0s - loss: 20.9521\n",
      "Epoch 65/100\n",
      "13/13 - 0s - loss: 20.7628\n",
      "Epoch 66/100\n",
      "13/13 - 0s - loss: 22.1484\n",
      "Epoch 67/100\n",
      "13/13 - 0s - loss: 19.7668\n",
      "Epoch 68/100\n",
      "13/13 - 0s - loss: 19.3981\n",
      "Epoch 69/100\n",
      "13/13 - 0s - loss: 19.7355\n",
      "Epoch 70/100\n",
      "13/13 - 0s - loss: 22.1386\n",
      "Epoch 71/100\n",
      "13/13 - 0s - loss: 21.5271\n",
      "Epoch 72/100\n",
      "13/13 - 0s - loss: 18.4504\n",
      "Epoch 73/100\n",
      "13/13 - 0s - loss: 18.1346\n",
      "Epoch 74/100\n",
      "13/13 - 0s - loss: 18.9940\n",
      "Epoch 75/100\n",
      "13/13 - 0s - loss: 17.3607\n",
      "Epoch 76/100\n",
      "13/13 - 0s - loss: 17.2129\n",
      "Epoch 77/100\n",
      "13/13 - 0s - loss: 17.9687\n",
      "Epoch 78/100\n",
      "13/13 - 0s - loss: 19.0928\n",
      "Epoch 79/100\n",
      "13/13 - 0s - loss: 20.9004\n",
      "Epoch 80/100\n",
      "13/13 - 0s - loss: 16.5221\n",
      "Epoch 81/100\n",
      "13/13 - 0s - loss: 15.9841\n",
      "Epoch 82/100\n",
      "13/13 - 0s - loss: 16.1253\n",
      "Epoch 83/100\n",
      "13/13 - 0s - loss: 15.8270\n",
      "Epoch 84/100\n",
      "13/13 - 0s - loss: 16.8843\n",
      "Epoch 85/100\n",
      "13/13 - 0s - loss: 19.6134\n",
      "Epoch 86/100\n",
      "13/13 - 0s - loss: 21.4344\n",
      "Epoch 87/100\n",
      "13/13 - 0s - loss: 19.2666\n",
      "Epoch 88/100\n",
      "13/13 - 0s - loss: 17.4081\n",
      "Epoch 89/100\n",
      "13/13 - 0s - loss: 15.8817\n",
      "Epoch 90/100\n",
      "13/13 - 0s - loss: 15.3108\n",
      "Epoch 91/100\n",
      "13/13 - 0s - loss: 14.3835\n",
      "Epoch 92/100\n",
      "13/13 - 0s - loss: 14.5547\n",
      "Epoch 93/100\n",
      "13/13 - 0s - loss: 14.6198\n",
      "Epoch 94/100\n",
      "13/13 - 0s - loss: 14.2662\n",
      "Epoch 95/100\n",
      "13/13 - 0s - loss: 14.0415\n",
      "Epoch 96/100\n",
      "13/13 - 0s - loss: 13.9724\n",
      "Epoch 97/100\n",
      "13/13 - 0s - loss: 14.1609\n",
      "Epoch 98/100\n",
      "13/13 - 0s - loss: 15.2006\n",
      "Epoch 99/100\n",
      "13/13 - 0s - loss: 14.2299\n",
      "Epoch 100/100\n",
      "13/13 - 0s - loss: 14.4296\n"
     ]
    },
    {
     "output_type": "execute_result",
     "data": {
      "text/plain": [
       "<tensorflow.python.keras.callbacks.History at 0x7f247412c1f0>"
      ]
     },
     "metadata": {},
     "execution_count": 10
    }
   ],
   "source": [
    "model = Sequential()\n",
    "\n",
    "model.add(Dense(25, input_dim=x.shape[1], activation='relu')) # Hidden 1     #  why input_dim=x.shape[1]?  \n",
    "model.add(Dense(10, activation='relu')) # Hidden 2\n",
    "model.add(Dense(1)) # Output\n",
    "\n",
    "model.compile(loss='mean_squared_error', optimizer='adam')\n",
    "\n",
    "model.fit(x,y,verbose=2,epochs=100)    # Verbosity mode. 0 = silent, 1 = progress bar, 2 = one line per epoch.\n"
   ]
  },
  {
   "cell_type": "markdown",
   "metadata": {},
   "source": [
    "### Monitor the loss at each epoch\n",
    "\n",
    "One line is produced for each training epoch.  You can eliminate this output by setting the verbose setting of the fit command:\n",
    "\n",
    "* **verbose=0** - No progress output (use with Juputer if you do not want output)\n",
    "* **verbose=1** - Display progress bar, does not work well with Jupyter\n",
    "* **verbose=2** - Summary progress output (use with Jupyter if you want to know the loss at each epoch)\n",
    "\n",
    "\n",
    "## Use Trained Model to Make Regression Prediction"
   ]
  },
  {
   "cell_type": "markdown",
   "metadata": {},
   "source": [
    "Next we will perform actual predictions.  These predictions are assigned to the **pred** variable. These are all MPG predictions from the neural network.  \n",
    "\n",
    "***Notice that the data to predict should be a 2D array!***  \n",
    "\n",
    "***Notice that the prediction result is also a 2D array!*** \n",
    "\n",
    "Neural networks can return multiple values, so the result is always an array.  Here the neural network only returns 1 value per prediction (there are 398 cars, so 398 predictions).  However, a 2D array is needed because the neural network has the potential of returning more than one value. \n"
   ]
  },
  {
   "cell_type": "code",
   "execution_count": 11,
   "metadata": {},
   "outputs": [
    {
     "output_type": "stream",
     "name": "stdout",
     "text": [
      "Shape: (398, 1)\n[[14.221749 ]\n [14.233721 ]\n [15.049036 ]\n [15.738706 ]\n [14.443838 ]\n [10.663464 ]\n [10.95334  ]\n [10.886254 ]\n [11.291542 ]\n [12.761456 ]\n [14.014432 ]\n [12.944459 ]\n [11.372355 ]\n [18.49247  ]\n [24.581545 ]\n [19.124819 ]\n [19.536087 ]\n [20.104034 ]\n [26.135906 ]\n [28.894669 ]\n [24.969837 ]\n [24.27135  ]\n [26.245745 ]\n [23.379416 ]\n [19.600859 ]\n [13.00615  ]\n [14.73483  ]\n [14.387863 ]\n [14.103189 ]\n [26.547852 ]\n [23.072027 ]\n [24.8004   ]\n [28.221436 ]\n [19.143974 ]\n [16.349245 ]\n [16.29189  ]\n [15.783121 ]\n [16.783487 ]\n [12.035209 ]\n [10.224432 ]\n [12.355865 ]\n [12.770023 ]\n [ 8.11245  ]\n [ 8.666736 ]\n [ 6.8203573]\n [17.76476  ]\n [23.530874 ]\n [16.313265 ]\n [16.197063 ]\n [23.131226 ]\n [24.33079  ]\n [30.142641 ]\n [26.924728 ]\n [31.542334 ]\n [31.352953 ]\n [28.73495  ]\n [29.466543 ]\n [25.866676 ]\n [27.298187 ]\n [30.435207 ]\n [24.493279 ]\n [24.803518 ]\n [12.030852 ]\n [11.225757 ]\n [13.136714 ]\n [12.604168 ]\n [14.912218 ]\n [10.790982 ]\n [10.953614 ]\n [11.47348  ]\n [12.075479 ]\n [28.381199 ]\n [14.19178  ]\n [12.642821 ]\n [13.13427  ]\n [13.680027 ]\n [23.088337 ]\n [25.308962 ]\n [25.280361 ]\n [28.065828 ]\n [24.177622 ]\n [27.94074  ]\n [24.283085 ]\n [26.152992 ]\n [28.044525 ]\n [14.319211 ]\n [15.257322 ]\n [13.286614 ]\n [13.97712  ]\n [14.944472 ]\n [ 9.106967 ]\n [ 9.783587 ]\n [11.963341 ]\n [13.395939 ]\n [10.803348 ]\n [ 9.960803 ]\n [14.743708 ]\n [19.2123   ]\n [18.412916 ]\n [19.54961  ]\n [18.447115 ]\n [20.009718 ]\n [30.132586 ]\n [ 7.842567 ]\n [ 8.564337 ]\n [10.916763 ]\n [12.2145815]\n [19.925856 ]\n [29.336882 ]\n [24.62488  ]\n [26.981564 ]\n [29.150484 ]\n [26.036276 ]\n [22.70922  ]\n [27.151154 ]\n [12.781095 ]\n [13.986965 ]\n [32.079475 ]\n [25.638105 ]\n [24.331642 ]\n [24.152502 ]\n [16.283394 ]\n [23.818043 ]\n [22.129906 ]\n [16.011179 ]\n [19.52124  ]\n [20.861496 ]\n [20.131294 ]\n [17.983435 ]\n [31.730268 ]\n [25.051664 ]\n [33.658657 ]\n [23.494282 ]\n [15.590333 ]\n [17.278742 ]\n [16.911491 ]\n [13.722027 ]\n [10.774537 ]\n [12.095275 ]\n [11.97454  ]\n [14.3069315]\n [28.078438 ]\n [29.54382  ]\n [26.899513 ]\n [31.171339 ]\n [31.189148 ]\n [27.426184 ]\n [28.390385 ]\n [25.092625 ]\n [25.399017 ]\n [26.844137 ]\n [29.717268 ]\n [18.357231 ]\n [17.476952 ]\n [18.136936 ]\n [18.916468 ]\n [10.235385 ]\n [12.008706 ]\n [12.68254  ]\n [10.758868 ]\n [17.9394   ]\n [16.278042 ]\n [17.559416 ]\n [16.943224 ]\n [19.831684 ]\n [17.75098  ]\n [17.76968  ]\n [28.692997 ]\n [23.801874 ]\n [20.406519 ]\n [24.601322 ]\n [23.364258 ]\n [29.004763 ]\n [26.792574 ]\n [20.09131  ]\n [28.345829 ]\n [18.726917 ]\n [25.387486 ]\n [25.304588 ]\n [24.10746  ]\n [24.431013 ]\n [30.498781 ]\n [27.123373 ]\n [27.53249  ]\n [23.413557 ]\n [28.962723 ]\n [28.070953 ]\n [13.506508 ]\n [13.990047 ]\n [14.20859  ]\n [13.375075 ]\n [18.863918 ]\n [17.698132 ]\n [20.411335 ]\n [20.02725  ]\n [32.486633 ]\n [31.145794 ]\n [28.859646 ]\n [30.859768 ]\n [17.680038 ]\n [18.045315 ]\n [17.186758 ]\n [19.419857 ]\n [27.499863 ]\n [30.973469 ]\n [29.343895 ]\n [22.494831 ]\n [23.96268  ]\n [15.427062 ]\n [27.525183 ]\n [22.70718  ]\n [20.122248 ]\n [13.704819 ]\n [13.499085 ]\n [15.787285 ]\n [16.79204  ]\n [30.886309 ]\n [27.015284 ]\n [32.539665 ]\n [26.327223 ]\n [31.382404 ]\n [15.694295 ]\n [16.503777 ]\n [14.65544  ]\n [13.800635 ]\n [18.296698 ]\n [19.052525 ]\n [18.138151 ]\n [18.818644 ]\n [13.694836 ]\n [14.337399 ]\n [14.183909 ]\n [13.69786  ]\n [28.926056 ]\n [23.018864 ]\n [30.431183 ]\n [23.841253 ]\n [29.2487   ]\n [28.907476 ]\n [30.020514 ]\n [28.173176 ]\n [23.570684 ]\n [24.986296 ]\n [28.90306  ]\n [32.99784  ]\n [28.928219 ]\n [33.38681  ]\n [32.436718 ]\n [31.25837  ]\n [18.967316 ]\n [16.67483  ]\n [17.563576 ]\n [19.870167 ]\n [21.373018 ]\n [20.739544 ]\n [24.11271  ]\n [19.327444 ]\n [19.86017  ]\n [19.130812 ]\n [20.591234 ]\n [19.54457  ]\n [19.05642  ]\n [18.810144 ]\n [20.94065  ]\n [18.786257 ]\n [15.050809 ]\n [29.245445 ]\n [25.255013 ]\n [27.394897 ]\n [27.556456 ]\n [25.659527 ]\n [24.032711 ]\n [23.952433 ]\n [27.266129 ]\n [25.587767 ]\n [21.857172 ]\n [26.515203 ]\n [21.993898 ]\n [30.023102 ]\n [30.132648 ]\n [20.561844 ]\n [22.06055  ]\n [25.119144 ]\n [20.372128 ]\n [20.316448 ]\n [17.12385  ]\n [16.807701 ]\n [15.230765 ]\n [17.161737 ]\n [14.780711 ]\n [15.425296 ]\n [18.502407 ]\n [15.737307 ]\n [30.119343 ]\n [31.171528 ]\n [29.277851 ]\n [25.952011 ]\n [21.787216 ]\n [16.776186 ]\n [28.381433 ]\n [21.026243 ]\n [27.304136 ]\n [28.279957 ]\n [33.196163 ]\n [29.826902 ]\n [24.023632 ]\n [23.034138 ]\n [23.209677 ]\n [23.032936 ]\n [29.702692 ]\n [33.10746  ]\n [29.66398  ]\n [32.098145 ]\n [24.6727   ]\n [25.982552 ]\n [25.792782 ]\n [20.430202 ]\n [30.27941  ]\n [26.34152  ]\n [28.728813 ]\n [28.009306 ]\n [29.195042 ]\n [32.662365 ]\n [23.363136 ]\n [33.410454 ]\n [33.70399  ]\n [34.1737   ]\n [28.554312 ]\n [26.649998 ]\n [30.743095 ]\n [33.059074 ]\n [31.719955 ]\n [31.246939 ]\n [23.384438 ]\n [31.010405 ]\n [27.228615 ]\n [24.044641 ]\n [30.102123 ]\n [26.381165 ]\n [25.046627 ]\n [23.967794 ]\n [23.354189 ]\n [25.185385 ]\n [33.85006  ]\n [32.02044  ]\n [33.28715  ]\n [32.205723 ]\n [34.220806 ]\n [32.602337 ]\n [31.992817 ]\n [28.865915 ]\n [30.529293 ]\n [32.085854 ]\n [29.131142 ]\n [30.354725 ]\n [29.40602  ]\n [30.235361 ]\n [28.030552 ]\n [29.330406 ]\n [26.998335 ]\n [26.484146 ]\n [23.466612 ]\n [24.921799 ]\n [20.250391 ]\n [18.057852 ]\n [22.0289   ]\n [19.079527 ]\n [30.554792 ]\n [29.968473 ]\n [30.200956 ]\n [28.847857 ]\n [26.869045 ]\n [26.13555  ]\n [26.005804 ]\n [26.79773  ]\n [30.564747 ]\n [33.437664 ]\n [33.252796 ]\n [29.373634 ]\n [31.393867 ]\n [29.040148 ]\n [29.879898 ]\n [30.860886 ]\n [31.925694 ]\n [32.282295 ]\n [32.471085 ]\n [24.15368  ]\n [21.472523 ]\n [24.547422 ]\n [23.299644 ]\n [25.67508  ]\n [25.681229 ]\n [25.306644 ]\n [25.681406 ]\n [35.360146 ]\n [25.132744 ]\n [29.192753 ]\n [29.518286 ]]\n"
     ]
    }
   ],
   "source": [
    "pred = model.predict(x)\n",
    "print(\"Shape: {}\".format(pred.shape))\n",
    "print(pred)"
   ]
  },
  {
   "cell_type": "markdown",
   "metadata": {},
   "source": [
    "We would like to see how good these predictions are.  We know what the correct MPG is for each car, so we can measure how close the neural network was."
   ]
  },
  {
   "cell_type": "code",
   "execution_count": 12,
   "metadata": {},
   "outputs": [
    {
     "output_type": "stream",
     "name": "stdout",
     "text": [
      "Final score (RMSE): 3.7234885692596436\n"
     ]
    }
   ],
   "source": [
    "# Measure RMSE error.  RMSE is common for regression.\n",
    "score = np.sqrt(metrics.mean_squared_error(pred,y))\n",
    "print(\"Final score (RMSE): {}\".format(score))"
   ]
  },
  {
   "cell_type": "markdown",
   "metadata": {},
   "source": [
    "We can also print out the first 10 cars, with predictions and actual MPG."
   ]
  },
  {
   "cell_type": "code",
   "execution_count": 13,
   "metadata": {},
   "outputs": [
    {
     "output_type": "stream",
     "name": "stdout",
     "text": [
      "1. Car name: chevrolet chevelle malibu, MPG: 18.0, predicted MPG: [14.221749]\n2. Car name: buick skylark 320, MPG: 15.0, predicted MPG: [14.233721]\n3. Car name: plymouth satellite, MPG: 18.0, predicted MPG: [15.049036]\n4. Car name: amc rebel sst, MPG: 16.0, predicted MPG: [15.738706]\n5. Car name: ford torino, MPG: 17.0, predicted MPG: [14.443838]\n6. Car name: ford galaxie 500, MPG: 15.0, predicted MPG: [10.663464]\n7. Car name: chevrolet impala, MPG: 14.0, predicted MPG: [10.95334]\n8. Car name: plymouth fury iii, MPG: 14.0, predicted MPG: [10.886254]\n9. Car name: pontiac catalina, MPG: 14.0, predicted MPG: [11.291542]\n10. Car name: amc ambassador dpl, MPG: 15.0, predicted MPG: [12.761456]\n"
     ]
    }
   ],
   "source": [
    "# Sample predictions\n",
    "for i in range(10):\n",
    "    print(\"{}. Car name: {}, MPG: {}, predicted MPG: {}\".format(i+1,cars[i],y[i],pred[i]))"
   ]
  },
  {
   "cell_type": "markdown",
   "metadata": {},
   "source": [
    "# Example of TensorFlow Classification: Iris\n",
    "\n",
    "This is a very simple example of how to perform the Iris classification using TensorFlow. The iris.csv file is used. \n"
   ]
  },
  {
   "cell_type": "code",
   "execution_count": 14,
   "metadata": {},
   "outputs": [],
   "source": [
    "import pandas as pd\n",
    "import io\n",
    "import requests\n",
    "import numpy as np\n",
    "from sklearn import metrics\n",
    "from tensorflow.keras.models import Sequential\n",
    "from tensorflow.keras.layers import Dense, Activation\n",
    "from tensorflow.keras.callbacks import EarlyStopping\n",
    "\n",
    "\n",
    "df=pd.read_csv(\"data/iris.csv\",na_values=['NA','?'])\n",
    "\n",
    "species = encode_text_index(df,\"species\")\n",
    "\n",
    "x,y = to_xy(df,\"species\")"
   ]
  },
  {
   "cell_type": "code",
   "execution_count": 15,
   "metadata": {},
   "outputs": [
    {
     "output_type": "execute_result",
     "data": {
      "text/plain": [
       "array([[5.1, 3.5, 1.4, 0.2],\n",
       "       [4.9, 3. , 1.4, 0.2],\n",
       "       [4.7, 3.2, 1.3, 0.2],\n",
       "       [4.6, 3.1, 1.5, 0.2],\n",
       "       [5. , 3.6, 1.4, 0.2],\n",
       "       [5.4, 3.9, 1.7, 0.4],\n",
       "       [4.6, 3.4, 1.4, 0.3],\n",
       "       [5. , 3.4, 1.5, 0.2],\n",
       "       [4.4, 2.9, 1.4, 0.2],\n",
       "       [4.9, 3.1, 1.5, 0.1],\n",
       "       [5.4, 3.7, 1.5, 0.2],\n",
       "       [4.8, 3.4, 1.6, 0.2],\n",
       "       [4.8, 3. , 1.4, 0.1],\n",
       "       [4.3, 3. , 1.1, 0.1],\n",
       "       [5.8, 4. , 1.2, 0.2],\n",
       "       [5.7, 4.4, 1.5, 0.4],\n",
       "       [5.4, 3.9, 1.3, 0.4],\n",
       "       [5.1, 3.5, 1.4, 0.3],\n",
       "       [5.7, 3.8, 1.7, 0.3],\n",
       "       [5.1, 3.8, 1.5, 0.3],\n",
       "       [5.4, 3.4, 1.7, 0.2],\n",
       "       [5.1, 3.7, 1.5, 0.4],\n",
       "       [4.6, 3.6, 1. , 0.2],\n",
       "       [5.1, 3.3, 1.7, 0.5],\n",
       "       [4.8, 3.4, 1.9, 0.2],\n",
       "       [5. , 3. , 1.6, 0.2],\n",
       "       [5. , 3.4, 1.6, 0.4],\n",
       "       [5.2, 3.5, 1.5, 0.2],\n",
       "       [5.2, 3.4, 1.4, 0.2],\n",
       "       [4.7, 3.2, 1.6, 0.2],\n",
       "       [4.8, 3.1, 1.6, 0.2],\n",
       "       [5.4, 3.4, 1.5, 0.4],\n",
       "       [5.2, 4.1, 1.5, 0.1],\n",
       "       [5.5, 4.2, 1.4, 0.2],\n",
       "       [4.9, 3.1, 1.5, 0.2],\n",
       "       [5. , 3.2, 1.2, 0.2],\n",
       "       [5.5, 3.5, 1.3, 0.2],\n",
       "       [4.9, 3.6, 1.4, 0.1],\n",
       "       [4.4, 3. , 1.3, 0.2],\n",
       "       [5.1, 3.4, 1.5, 0.2],\n",
       "       [5. , 3.5, 1.3, 0.3],\n",
       "       [4.5, 2.3, 1.3, 0.3],\n",
       "       [4.4, 3.2, 1.3, 0.2],\n",
       "       [5. , 3.5, 1.6, 0.6],\n",
       "       [5.1, 3.8, 1.9, 0.4],\n",
       "       [4.8, 3. , 1.4, 0.3],\n",
       "       [5.1, 3.8, 1.6, 0.2],\n",
       "       [4.6, 3.2, 1.4, 0.2],\n",
       "       [5.3, 3.7, 1.5, 0.2],\n",
       "       [5. , 3.3, 1.4, 0.2],\n",
       "       [7. , 3.2, 4.7, 1.4],\n",
       "       [6.4, 3.2, 4.5, 1.5],\n",
       "       [6.9, 3.1, 4.9, 1.5],\n",
       "       [5.5, 2.3, 4. , 1.3],\n",
       "       [6.5, 2.8, 4.6, 1.5],\n",
       "       [5.7, 2.8, 4.5, 1.3],\n",
       "       [6.3, 3.3, 4.7, 1.6],\n",
       "       [4.9, 2.4, 3.3, 1. ],\n",
       "       [6.6, 2.9, 4.6, 1.3],\n",
       "       [5.2, 2.7, 3.9, 1.4],\n",
       "       [5. , 2. , 3.5, 1. ],\n",
       "       [5.9, 3. , 4.2, 1.5],\n",
       "       [6. , 2.2, 4. , 1. ],\n",
       "       [6.1, 2.9, 4.7, 1.4],\n",
       "       [5.6, 2.9, 3.6, 1.3],\n",
       "       [6.7, 3.1, 4.4, 1.4],\n",
       "       [5.6, 3. , 4.5, 1.5],\n",
       "       [5.8, 2.7, 4.1, 1. ],\n",
       "       [6.2, 2.2, 4.5, 1.5],\n",
       "       [5.6, 2.5, 3.9, 1.1],\n",
       "       [5.9, 3.2, 4.8, 1.8],\n",
       "       [6.1, 2.8, 4. , 1.3],\n",
       "       [6.3, 2.5, 4.9, 1.5],\n",
       "       [6.1, 2.8, 4.7, 1.2],\n",
       "       [6.4, 2.9, 4.3, 1.3],\n",
       "       [6.6, 3. , 4.4, 1.4],\n",
       "       [6.8, 2.8, 4.8, 1.4],\n",
       "       [6.7, 3. , 5. , 1.7],\n",
       "       [6. , 2.9, 4.5, 1.5],\n",
       "       [5.7, 2.6, 3.5, 1. ],\n",
       "       [5.5, 2.4, 3.8, 1.1],\n",
       "       [5.5, 2.4, 3.7, 1. ],\n",
       "       [5.8, 2.7, 3.9, 1.2],\n",
       "       [6. , 2.7, 5.1, 1.6],\n",
       "       [5.4, 3. , 4.5, 1.5],\n",
       "       [6. , 3.4, 4.5, 1.6],\n",
       "       [6.7, 3.1, 4.7, 1.5],\n",
       "       [6.3, 2.3, 4.4, 1.3],\n",
       "       [5.6, 3. , 4.1, 1.3],\n",
       "       [5.5, 2.5, 4. , 1.3],\n",
       "       [5.5, 2.6, 4.4, 1.2],\n",
       "       [6.1, 3. , 4.6, 1.4],\n",
       "       [5.8, 2.6, 4. , 1.2],\n",
       "       [5. , 2.3, 3.3, 1. ],\n",
       "       [5.6, 2.7, 4.2, 1.3],\n",
       "       [5.7, 3. , 4.2, 1.2],\n",
       "       [5.7, 2.9, 4.2, 1.3],\n",
       "       [6.2, 2.9, 4.3, 1.3],\n",
       "       [5.1, 2.5, 3. , 1.1],\n",
       "       [5.7, 2.8, 4.1, 1.3],\n",
       "       [6.3, 3.3, 6. , 2.5],\n",
       "       [5.8, 2.7, 5.1, 1.9],\n",
       "       [7.1, 3. , 5.9, 2.1],\n",
       "       [6.3, 2.9, 5.6, 1.8],\n",
       "       [6.5, 3. , 5.8, 2.2],\n",
       "       [7.6, 3. , 6.6, 2.1],\n",
       "       [4.9, 2.5, 4.5, 1.7],\n",
       "       [7.3, 2.9, 6.3, 1.8],\n",
       "       [6.7, 2.5, 5.8, 1.8],\n",
       "       [7.2, 3.6, 6.1, 2.5],\n",
       "       [6.5, 3.2, 5.1, 2. ],\n",
       "       [6.4, 2.7, 5.3, 1.9],\n",
       "       [6.8, 3. , 5.5, 2.1],\n",
       "       [5.7, 2.5, 5. , 2. ],\n",
       "       [5.8, 2.8, 5.1, 2.4],\n",
       "       [6.4, 3.2, 5.3, 2.3],\n",
       "       [6.5, 3. , 5.5, 1.8],\n",
       "       [7.7, 3.8, 6.7, 2.2],\n",
       "       [7.7, 2.6, 6.9, 2.3],\n",
       "       [6. , 2.2, 5. , 1.5],\n",
       "       [6.9, 3.2, 5.7, 2.3],\n",
       "       [5.6, 2.8, 4.9, 2. ],\n",
       "       [7.7, 2.8, 6.7, 2. ],\n",
       "       [6.3, 2.7, 4.9, 1.8],\n",
       "       [6.7, 3.3, 5.7, 2.1],\n",
       "       [7.2, 3.2, 6. , 1.8],\n",
       "       [6.2, 2.8, 4.8, 1.8],\n",
       "       [6.1, 3. , 4.9, 1.8],\n",
       "       [6.4, 2.8, 5.6, 2.1],\n",
       "       [7.2, 3. , 5.8, 1.6],\n",
       "       [7.4, 2.8, 6.1, 1.9],\n",
       "       [7.9, 3.8, 6.4, 2. ],\n",
       "       [6.4, 2.8, 5.6, 2.2],\n",
       "       [6.3, 2.8, 5.1, 1.5],\n",
       "       [6.1, 2.6, 5.6, 1.4],\n",
       "       [7.7, 3. , 6.1, 2.3],\n",
       "       [6.3, 3.4, 5.6, 2.4],\n",
       "       [6.4, 3.1, 5.5, 1.8],\n",
       "       [6. , 3. , 4.8, 1.8],\n",
       "       [6.9, 3.1, 5.4, 2.1],\n",
       "       [6.7, 3.1, 5.6, 2.4],\n",
       "       [6.9, 3.1, 5.1, 2.3],\n",
       "       [5.8, 2.7, 5.1, 1.9],\n",
       "       [6.8, 3.2, 5.9, 2.3],\n",
       "       [6.7, 3.3, 5.7, 2.5],\n",
       "       [6.7, 3. , 5.2, 2.3],\n",
       "       [6.3, 2.5, 5. , 1.9],\n",
       "       [6.5, 3. , 5.2, 2. ],\n",
       "       [6.2, 3.4, 5.4, 2.3],\n",
       "       [5.9, 3. , 5.1, 1.8]], dtype=float32)"
      ]
     },
     "metadata": {},
     "execution_count": 15
    }
   ],
   "source": [
    "x"
   ]
  },
  {
   "cell_type": "code",
   "execution_count": 16,
   "metadata": {},
   "outputs": [
    {
     "output_type": "execute_result",
     "data": {
      "text/plain": [
       "(150, 4)"
      ]
     },
     "metadata": {},
     "execution_count": 16
    }
   ],
   "source": [
    "x.shape"
   ]
  },
  {
   "cell_type": "code",
   "execution_count": 17,
   "metadata": {},
   "outputs": [
    {
     "output_type": "execute_result",
     "data": {
      "text/plain": [
       "array([[1., 0., 0.],\n",
       "       [1., 0., 0.],\n",
       "       [1., 0., 0.],\n",
       "       [1., 0., 0.],\n",
       "       [1., 0., 0.],\n",
       "       [1., 0., 0.],\n",
       "       [1., 0., 0.],\n",
       "       [1., 0., 0.],\n",
       "       [1., 0., 0.],\n",
       "       [1., 0., 0.],\n",
       "       [1., 0., 0.],\n",
       "       [1., 0., 0.],\n",
       "       [1., 0., 0.],\n",
       "       [1., 0., 0.],\n",
       "       [1., 0., 0.],\n",
       "       [1., 0., 0.],\n",
       "       [1., 0., 0.],\n",
       "       [1., 0., 0.],\n",
       "       [1., 0., 0.],\n",
       "       [1., 0., 0.],\n",
       "       [1., 0., 0.],\n",
       "       [1., 0., 0.],\n",
       "       [1., 0., 0.],\n",
       "       [1., 0., 0.],\n",
       "       [1., 0., 0.],\n",
       "       [1., 0., 0.],\n",
       "       [1., 0., 0.],\n",
       "       [1., 0., 0.],\n",
       "       [1., 0., 0.],\n",
       "       [1., 0., 0.],\n",
       "       [1., 0., 0.],\n",
       "       [1., 0., 0.],\n",
       "       [1., 0., 0.],\n",
       "       [1., 0., 0.],\n",
       "       [1., 0., 0.],\n",
       "       [1., 0., 0.],\n",
       "       [1., 0., 0.],\n",
       "       [1., 0., 0.],\n",
       "       [1., 0., 0.],\n",
       "       [1., 0., 0.],\n",
       "       [1., 0., 0.],\n",
       "       [1., 0., 0.],\n",
       "       [1., 0., 0.],\n",
       "       [1., 0., 0.],\n",
       "       [1., 0., 0.],\n",
       "       [1., 0., 0.],\n",
       "       [1., 0., 0.],\n",
       "       [1., 0., 0.],\n",
       "       [1., 0., 0.],\n",
       "       [1., 0., 0.],\n",
       "       [0., 1., 0.],\n",
       "       [0., 1., 0.],\n",
       "       [0., 1., 0.],\n",
       "       [0., 1., 0.],\n",
       "       [0., 1., 0.],\n",
       "       [0., 1., 0.],\n",
       "       [0., 1., 0.],\n",
       "       [0., 1., 0.],\n",
       "       [0., 1., 0.],\n",
       "       [0., 1., 0.],\n",
       "       [0., 1., 0.],\n",
       "       [0., 1., 0.],\n",
       "       [0., 1., 0.],\n",
       "       [0., 1., 0.],\n",
       "       [0., 1., 0.],\n",
       "       [0., 1., 0.],\n",
       "       [0., 1., 0.],\n",
       "       [0., 1., 0.],\n",
       "       [0., 1., 0.],\n",
       "       [0., 1., 0.],\n",
       "       [0., 1., 0.],\n",
       "       [0., 1., 0.],\n",
       "       [0., 1., 0.],\n",
       "       [0., 1., 0.],\n",
       "       [0., 1., 0.],\n",
       "       [0., 1., 0.],\n",
       "       [0., 1., 0.],\n",
       "       [0., 1., 0.],\n",
       "       [0., 1., 0.],\n",
       "       [0., 1., 0.],\n",
       "       [0., 1., 0.],\n",
       "       [0., 1., 0.],\n",
       "       [0., 1., 0.],\n",
       "       [0., 1., 0.],\n",
       "       [0., 1., 0.],\n",
       "       [0., 1., 0.],\n",
       "       [0., 1., 0.],\n",
       "       [0., 1., 0.],\n",
       "       [0., 1., 0.],\n",
       "       [0., 1., 0.],\n",
       "       [0., 1., 0.],\n",
       "       [0., 1., 0.],\n",
       "       [0., 1., 0.],\n",
       "       [0., 1., 0.],\n",
       "       [0., 1., 0.],\n",
       "       [0., 1., 0.],\n",
       "       [0., 1., 0.],\n",
       "       [0., 1., 0.],\n",
       "       [0., 1., 0.],\n",
       "       [0., 1., 0.],\n",
       "       [0., 0., 1.],\n",
       "       [0., 0., 1.],\n",
       "       [0., 0., 1.],\n",
       "       [0., 0., 1.],\n",
       "       [0., 0., 1.],\n",
       "       [0., 0., 1.],\n",
       "       [0., 0., 1.],\n",
       "       [0., 0., 1.],\n",
       "       [0., 0., 1.],\n",
       "       [0., 0., 1.],\n",
       "       [0., 0., 1.],\n",
       "       [0., 0., 1.],\n",
       "       [0., 0., 1.],\n",
       "       [0., 0., 1.],\n",
       "       [0., 0., 1.],\n",
       "       [0., 0., 1.],\n",
       "       [0., 0., 1.],\n",
       "       [0., 0., 1.],\n",
       "       [0., 0., 1.],\n",
       "       [0., 0., 1.],\n",
       "       [0., 0., 1.],\n",
       "       [0., 0., 1.],\n",
       "       [0., 0., 1.],\n",
       "       [0., 0., 1.],\n",
       "       [0., 0., 1.],\n",
       "       [0., 0., 1.],\n",
       "       [0., 0., 1.],\n",
       "       [0., 0., 1.],\n",
       "       [0., 0., 1.],\n",
       "       [0., 0., 1.],\n",
       "       [0., 0., 1.],\n",
       "       [0., 0., 1.],\n",
       "       [0., 0., 1.],\n",
       "       [0., 0., 1.],\n",
       "       [0., 0., 1.],\n",
       "       [0., 0., 1.],\n",
       "       [0., 0., 1.],\n",
       "       [0., 0., 1.],\n",
       "       [0., 0., 1.],\n",
       "       [0., 0., 1.],\n",
       "       [0., 0., 1.],\n",
       "       [0., 0., 1.],\n",
       "       [0., 0., 1.],\n",
       "       [0., 0., 1.],\n",
       "       [0., 0., 1.],\n",
       "       [0., 0., 1.],\n",
       "       [0., 0., 1.],\n",
       "       [0., 0., 1.],\n",
       "       [0., 0., 1.],\n",
       "       [0., 0., 1.]], dtype=float32)"
      ]
     },
     "metadata": {},
     "execution_count": 17
    }
   ],
   "source": [
    "y  #  This is one-hot encoding.  Only one value is 1.0 (hot)"
   ]
  },
  {
   "cell_type": "code",
   "execution_count": 18,
   "metadata": {},
   "outputs": [
    {
     "output_type": "execute_result",
     "data": {
      "text/plain": [
       "(150, 3)"
      ]
     },
     "metadata": {},
     "execution_count": 18
    }
   ],
   "source": [
    "y.shape"
   ]
  },
  {
   "cell_type": "code",
   "execution_count": 19,
   "metadata": {},
   "outputs": [
    {
     "output_type": "stream",
     "name": "stdout",
     "text": [
      "Epoch 1/100\n",
      "5/5 - 0s - loss: 1.0550\n",
      "Epoch 2/100\n",
      "5/5 - 0s - loss: 0.9439\n",
      "Epoch 3/100\n",
      "5/5 - 0s - loss: 0.8674\n",
      "Epoch 4/100\n",
      "5/5 - 0s - loss: 0.8120\n",
      "Epoch 5/100\n",
      "5/5 - 0s - loss: 0.7635\n",
      "Epoch 6/100\n",
      "5/5 - 0s - loss: 0.7199\n",
      "Epoch 7/100\n",
      "5/5 - 0s - loss: 0.6803\n",
      "Epoch 8/100\n",
      "5/5 - 0s - loss: 0.6401\n",
      "Epoch 9/100\n",
      "5/5 - 0s - loss: 0.6043\n",
      "Epoch 10/100\n",
      "5/5 - 0s - loss: 0.5693\n",
      "Epoch 11/100\n",
      "5/5 - 0s - loss: 0.5385\n",
      "Epoch 12/100\n",
      "5/5 - 0s - loss: 0.5071\n",
      "Epoch 13/100\n",
      "5/5 - 0s - loss: 0.4828\n",
      "Epoch 14/100\n",
      "5/5 - 0s - loss: 0.4603\n",
      "Epoch 15/100\n",
      "5/5 - 0s - loss: 0.4403\n",
      "Epoch 16/100\n",
      "5/5 - 0s - loss: 0.4239\n",
      "Epoch 17/100\n",
      "5/5 - 0s - loss: 0.4073\n",
      "Epoch 18/100\n",
      "5/5 - 0s - loss: 0.3911\n",
      "Epoch 19/100\n",
      "5/5 - 0s - loss: 0.3781\n",
      "Epoch 20/100\n",
      "5/5 - 0s - loss: 0.3650\n",
      "Epoch 21/100\n",
      "5/5 - 0s - loss: 0.3531\n",
      "Epoch 22/100\n",
      "5/5 - 0s - loss: 0.3414\n",
      "Epoch 23/100\n",
      "5/5 - 0s - loss: 0.3310\n",
      "Epoch 24/100\n",
      "5/5 - 0s - loss: 0.3200\n",
      "Epoch 25/100\n",
      "5/5 - 0s - loss: 0.3105\n",
      "Epoch 26/100\n",
      "5/5 - 0s - loss: 0.3010\n",
      "Epoch 27/100\n",
      "5/5 - 0s - loss: 0.2906\n",
      "Epoch 28/100\n",
      "5/5 - 0s - loss: 0.2813\n",
      "Epoch 29/100\n",
      "5/5 - 0s - loss: 0.2725\n",
      "Epoch 30/100\n",
      "5/5 - 0s - loss: 0.2640\n",
      "Epoch 31/100\n",
      "5/5 - 0s - loss: 0.2546\n",
      "Epoch 32/100\n",
      "5/5 - 0s - loss: 0.2477\n",
      "Epoch 33/100\n",
      "5/5 - 0s - loss: 0.2377\n",
      "Epoch 34/100\n",
      "5/5 - 0s - loss: 0.2303\n",
      "Epoch 35/100\n",
      "5/5 - 0s - loss: 0.2213\n",
      "Epoch 36/100\n",
      "5/5 - 0s - loss: 0.2150\n",
      "Epoch 37/100\n",
      "5/5 - 0s - loss: 0.2094\n",
      "Epoch 38/100\n",
      "5/5 - 0s - loss: 0.2040\n",
      "Epoch 39/100\n",
      "5/5 - 0s - loss: 0.1945\n",
      "Epoch 40/100\n",
      "5/5 - 0s - loss: 0.1882\n",
      "Epoch 41/100\n",
      "5/5 - 0s - loss: 0.1861\n",
      "Epoch 42/100\n",
      "5/5 - 0s - loss: 0.1772\n",
      "Epoch 43/100\n",
      "5/5 - 0s - loss: 0.1726\n",
      "Epoch 44/100\n",
      "5/5 - 0s - loss: 0.1680\n",
      "Epoch 45/100\n",
      "5/5 - 0s - loss: 0.1642\n",
      "Epoch 46/100\n",
      "5/5 - 0s - loss: 0.1580\n",
      "Epoch 47/100\n",
      "5/5 - 0s - loss: 0.1567\n",
      "Epoch 48/100\n",
      "5/5 - 0s - loss: 0.1496\n",
      "Epoch 49/100\n",
      "5/5 - 0s - loss: 0.1474\n",
      "Epoch 50/100\n",
      "5/5 - 0s - loss: 0.1460\n",
      "Epoch 51/100\n",
      "5/5 - 0s - loss: 0.1388\n",
      "Epoch 52/100\n",
      "5/5 - 0s - loss: 0.1370\n",
      "Epoch 53/100\n",
      "5/5 - 0s - loss: 0.1336\n",
      "Epoch 54/100\n",
      "5/5 - 0s - loss: 0.1320\n",
      "Epoch 55/100\n",
      "5/5 - 0s - loss: 0.1270\n",
      "Epoch 56/100\n",
      "5/5 - 0s - loss: 0.1263\n",
      "Epoch 57/100\n",
      "5/5 - 0s - loss: 0.1242\n",
      "Epoch 58/100\n",
      "5/5 - 0s - loss: 0.1188\n",
      "Epoch 59/100\n",
      "5/5 - 0s - loss: 0.1185\n",
      "Epoch 60/100\n",
      "5/5 - 0s - loss: 0.1153\n",
      "Epoch 61/100\n",
      "5/5 - 0s - loss: 0.1134\n",
      "Epoch 62/100\n",
      "5/5 - 0s - loss: 0.1154\n",
      "Epoch 63/100\n",
      "5/5 - 0s - loss: 0.1081\n",
      "Epoch 64/100\n",
      "5/5 - 0s - loss: 0.1107\n",
      "Epoch 65/100\n",
      "5/5 - 0s - loss: 0.1089\n",
      "Epoch 66/100\n",
      "5/5 - 0s - loss: 0.1105\n",
      "Epoch 67/100\n",
      "5/5 - 0s - loss: 0.1036\n",
      "Epoch 68/100\n",
      "5/5 - 0s - loss: 0.1022\n",
      "Epoch 69/100\n",
      "5/5 - 0s - loss: 0.1043\n",
      "Epoch 70/100\n",
      "5/5 - 0s - loss: 0.0983\n",
      "Epoch 71/100\n",
      "5/5 - 0s - loss: 0.1017\n",
      "Epoch 72/100\n",
      "5/5 - 0s - loss: 0.0929\n",
      "Epoch 73/100\n",
      "5/5 - 0s - loss: 0.0990\n",
      "Epoch 74/100\n",
      "5/5 - 0s - loss: 0.0997\n",
      "Epoch 75/100\n",
      "5/5 - 0s - loss: 0.0920\n",
      "Epoch 76/100\n",
      "5/5 - 0s - loss: 0.0924\n",
      "Epoch 77/100\n",
      "5/5 - 0s - loss: 0.0917\n",
      "Epoch 78/100\n",
      "5/5 - 0s - loss: 0.0902\n",
      "Epoch 79/100\n",
      "5/5 - 0s - loss: 0.0910\n",
      "Epoch 80/100\n",
      "5/5 - 0s - loss: 0.0877\n",
      "Epoch 81/100\n",
      "5/5 - 0s - loss: 0.0931\n",
      "Epoch 82/100\n",
      "5/5 - 0s - loss: 0.0893\n",
      "Epoch 83/100\n",
      "5/5 - 0s - loss: 0.0886\n",
      "Epoch 84/100\n",
      "5/5 - 0s - loss: 0.0903\n",
      "Epoch 85/100\n",
      "5/5 - 0s - loss: 0.0877\n",
      "Epoch 86/100\n",
      "5/5 - 0s - loss: 0.0848\n",
      "Epoch 87/100\n",
      "5/5 - 0s - loss: 0.0844\n",
      "Epoch 88/100\n",
      "5/5 - 0s - loss: 0.0836\n",
      "Epoch 89/100\n",
      "5/5 - 0s - loss: 0.0867\n",
      "Epoch 90/100\n",
      "5/5 - 0s - loss: 0.0797\n",
      "Epoch 91/100\n",
      "5/5 - 0s - loss: 0.0807\n",
      "Epoch 92/100\n",
      "5/5 - 0s - loss: 0.0862\n",
      "Epoch 93/100\n",
      "5/5 - 0s - loss: 0.0778\n",
      "Epoch 94/100\n",
      "5/5 - 0s - loss: 0.0823\n",
      "Epoch 95/100\n",
      "5/5 - 0s - loss: 0.0787\n",
      "Epoch 96/100\n",
      "5/5 - 0s - loss: 0.0820\n",
      "Epoch 97/100\n",
      "5/5 - 0s - loss: 0.0825\n",
      "Epoch 98/100\n",
      "5/5 - 0s - loss: 0.0746\n",
      "Epoch 99/100\n",
      "5/5 - 0s - loss: 0.0839\n",
      "Epoch 100/100\n",
      "5/5 - 0s - loss: 0.0762\n"
     ]
    },
    {
     "output_type": "execute_result",
     "data": {
      "text/plain": [
       "<tensorflow.python.keras.callbacks.History at 0x7f24541d1c70>"
      ]
     },
     "metadata": {},
     "execution_count": 19
    }
   ],
   "source": [
    "model = Sequential()\n",
    "\n",
    "model.add(Dense(50, input_dim=x.shape[1], activation='relu')) # Hidden 1\n",
    "model.add(Dense(25, activation='relu')) # Hidden 2\n",
    "model.add(Dense(y.shape[1], activation='softmax')) # Output\n",
    "\n",
    "model.compile(loss='categorical_crossentropy', optimizer='adam')\n",
    "\n",
    "model.fit(x,y,verbose=2,epochs=100)"
   ]
  },
  {
   "cell_type": "code",
   "execution_count": 20,
   "metadata": {},
   "outputs": [
    {
     "output_type": "stream",
     "name": "stdout",
     "text": [
      "['Iris-setosa' 'Iris-versicolor' 'Iris-virginica']\n"
     ]
    }
   ],
   "source": [
    "# Print out number of species found:\n",
    "print(species)"
   ]
  },
  {
   "cell_type": "markdown",
   "metadata": {},
   "source": [
    "Now that you have a neural network trained, we would like to be able to use it. There were 3 types of iris (Iris-setosa, Iris-versicolor, and Iris-virginica).  "
   ]
  },
  {
   "cell_type": "code",
   "execution_count": 21,
   "metadata": {},
   "outputs": [
    {
     "output_type": "execute_result",
     "data": {
      "text/plain": [
       "(150, 3)"
      ]
     },
     "metadata": {},
     "execution_count": 21
    }
   ],
   "source": [
    "pred = model.predict(x)\n",
    "pred.shape"
   ]
  },
  {
   "cell_type": "code",
   "execution_count": 22,
   "metadata": {
    "scrolled": false
   },
   "outputs": [
    {
     "output_type": "execute_result",
     "data": {
      "text/plain": [
       "array([[9.98267174e-01, 1.73049979e-03, 2.29821467e-06],\n",
       "       [9.94780838e-01, 5.20949531e-03, 9.61542355e-06],\n",
       "       [9.97054815e-01, 2.93903053e-03, 6.16429179e-06],\n",
       "       [9.94693816e-01, 5.29370736e-03, 1.23962636e-05],\n",
       "       [9.98530030e-01, 1.46788184e-03, 2.06066443e-06],\n",
       "       [9.98089135e-01, 1.90896366e-03, 1.84553699e-06],\n",
       "       [9.97000873e-01, 2.99240020e-03, 6.64881736e-06],\n",
       "       [9.97423768e-01, 2.57243845e-03, 3.81741256e-06],\n",
       "       [9.93066788e-01, 6.91243215e-03, 2.06672757e-05],\n",
       "       [9.96055484e-01, 3.93787352e-03, 6.65083553e-06],\n",
       "       [9.98724282e-01, 1.27450807e-03, 1.20847812e-06],\n",
       "       [9.96633470e-01, 3.36063188e-03, 5.95723077e-06],\n",
       "       [9.95801747e-01, 4.19013342e-03, 8.02321756e-06],\n",
       "       [9.97061074e-01, 2.92988098e-03, 9.08128277e-06],\n",
       "       [9.99593675e-01, 4.06130275e-04, 2.50924046e-07],\n",
       "       [9.99537468e-01, 4.62362601e-04, 2.89961008e-07],\n",
       "       [9.99098897e-01, 9.00239160e-04, 8.82996574e-07],\n",
       "       [9.97873783e-01, 2.12318706e-03, 2.93766129e-06],\n",
       "       [9.98275399e-01, 1.72329647e-03, 1.25373913e-06],\n",
       "       [9.98599231e-01, 1.39895466e-03, 1.74322770e-06],\n",
       "       [9.96549964e-01, 3.44642880e-03, 3.58125021e-06],\n",
       "       [9.97905493e-01, 2.09162571e-03, 2.81382609e-06],\n",
       "       [9.98942912e-01, 1.05497008e-03, 2.14735769e-06],\n",
       "       [9.87841666e-01, 1.21377110e-02, 2.05786182e-05],\n",
       "       [9.92930233e-01, 7.05654500e-03, 1.32025161e-05],\n",
       "       [9.92204189e-01, 7.78291002e-03, 1.29515029e-05],\n",
       "       [9.94605243e-01, 5.38586080e-03, 8.88476734e-06],\n",
       "       [9.98001873e-01, 1.99569529e-03, 2.40582540e-06],\n",
       "       [9.97916877e-01, 2.08054250e-03, 2.61474520e-06],\n",
       "       [9.94720936e-01, 5.26800519e-03, 1.10210021e-05],\n",
       "       [9.93690372e-01, 6.29718089e-03, 1.24650524e-05],\n",
       "       [9.95865941e-01, 4.12927894e-03, 4.74865419e-06],\n",
       "       [9.99405503e-01, 5.93940436e-04, 5.58067882e-07],\n",
       "       [9.99550879e-01, 4.48776176e-04, 3.30294938e-07],\n",
       "       [9.95026052e-01, 4.96510230e-03, 8.90502906e-06],\n",
       "       [9.97639656e-01, 2.35655671e-03, 3.83538099e-06],\n",
       "       [9.98641670e-01, 1.35696714e-03, 1.28107706e-06],\n",
       "       [9.98712897e-01, 1.28520816e-03, 1.88547608e-06],\n",
       "       [9.95249748e-01, 4.73644724e-03, 1.37886791e-05],\n",
       "       [9.97499645e-01, 2.49694241e-03, 3.39402641e-06],\n",
       "       [9.98180628e-01, 1.81660266e-03, 2.76842729e-06],\n",
       "       [9.67999041e-01, 3.18947732e-02, 1.06186009e-04],\n",
       "       [9.96777594e-01, 3.21359374e-03, 8.77044113e-06],\n",
       "       [9.92045641e-01, 7.94020947e-03, 1.41921591e-05],\n",
       "       [9.95613337e-01, 4.38075885e-03, 5.97556482e-06],\n",
       "       [9.93018806e-01, 6.96622068e-03, 1.48853605e-05],\n",
       "       [9.98616934e-01, 1.38139585e-03, 1.63974812e-06],\n",
       "       [9.96395171e-01, 3.59661691e-03, 8.16126794e-06],\n",
       "       [9.98685539e-01, 1.31309091e-03, 1.35927837e-06],\n",
       "       [9.97338474e-01, 2.65730615e-03, 4.11043402e-06],\n",
       "       [9.20074235e-04, 9.94896829e-01, 4.18304326e-03],\n",
       "       [1.37103733e-03, 9.83793795e-01, 1.48351137e-02],\n",
       "       [8.99056147e-04, 9.68165159e-01, 3.09357997e-02],\n",
       "       [3.17197037e-03, 8.59042287e-01, 1.37785748e-01],\n",
       "       [1.32580567e-03, 9.21976924e-01, 7.66972005e-02],\n",
       "       [2.35039950e-03, 9.01611447e-01, 9.60381851e-02],\n",
       "       [1.40293594e-03, 9.43900049e-01, 5.46970069e-02],\n",
       "       [1.43426023e-02, 9.74564314e-01, 1.10930651e-02],\n",
       "       [1.19093515e-03, 9.87898290e-01, 1.09107234e-02],\n",
       "       [3.93744372e-03, 9.10676062e-01, 8.53865668e-02],\n",
       "       [5.50937513e-03, 9.65361059e-01, 2.91296467e-02],\n",
       "       [2.18317984e-03, 9.64753926e-01, 3.30628864e-02],\n",
       "       [2.45656003e-03, 9.88116741e-01, 9.42666177e-03],\n",
       "       [1.66124105e-03, 8.93167794e-01, 1.05170950e-01],\n",
       "       [9.23660398e-03, 9.83479977e-01, 7.28341751e-03],\n",
       "       [1.50420668e-03, 9.94031847e-01, 4.46389755e-03],\n",
       "       [2.27119774e-03, 8.03909063e-01, 1.93819746e-01],\n",
       "       [4.10526665e-03, 9.89454746e-01, 6.44006440e-03],\n",
       "       [1.00018783e-03, 4.50178713e-01, 5.48821151e-01],\n",
       "       [3.17107886e-03, 9.86152291e-01, 1.06767118e-02],\n",
       "       [9.89295891e-04, 4.45516080e-01, 5.53494692e-01],\n",
       "       [2.62843398e-03, 9.90903080e-01, 6.46849396e-03],\n",
       "       [7.25216989e-04, 3.98245096e-01, 6.01029694e-01],\n",
       "       [1.72028120e-03, 9.56359208e-01, 4.19205651e-02],\n",
       "       [1.61968428e-03, 9.92298543e-01, 6.08178601e-03],\n",
       "       [1.24691229e-03, 9.92089391e-01, 6.66372431e-03],\n",
       "       [1.03001553e-03, 9.56746280e-01, 4.22236696e-02],\n",
       "       [8.13588849e-04, 6.81245387e-01, 3.17940980e-01],\n",
       "       [1.85824663e-03, 8.80548418e-01, 1.17593333e-01],\n",
       "       [1.69109236e-02, 9.78499174e-01, 4.58985614e-03],\n",
       "       [3.43592255e-03, 9.83985603e-01, 1.25784194e-02],\n",
       "       [5.50520699e-03, 9.86445844e-01, 8.04895628e-03],\n",
       "       [3.55115347e-03, 9.88906980e-01, 7.54196336e-03],\n",
       "       [2.89756601e-04, 1.29907936e-01, 8.69802296e-01],\n",
       "       [2.38778070e-03, 7.21462131e-01, 2.76150137e-01],\n",
       "       [1.85947097e-03, 9.66064632e-01, 3.20759304e-02],\n",
       "       [1.08057505e-03, 9.76010263e-01, 2.29091998e-02],\n",
       "       [1.68944593e-03, 9.01323617e-01, 9.69869122e-02],\n",
       "       [3.20512336e-03, 9.82236385e-01, 1.45584848e-02],\n",
       "       [3.22387670e-03, 9.28315401e-01, 6.84607327e-02],\n",
       "       [2.80984608e-03, 8.83557677e-01, 1.13632500e-01],\n",
       "       [1.72077911e-03, 9.47959781e-01, 5.03194816e-02],\n",
       "       [2.53091287e-03, 9.85812545e-01, 1.16566187e-02],\n",
       "       [1.14322482e-02, 9.77921069e-01, 1.06466003e-02],\n",
       "       [2.79768812e-03, 9.41193700e-01, 5.60086444e-02],\n",
       "       [3.20198946e-03, 9.86957848e-01, 9.84012336e-03],\n",
       "       [2.51676561e-03, 9.76753116e-01, 2.07300577e-02],\n",
       "       [1.72839942e-03, 9.89110529e-01, 9.16115567e-03],\n",
       "       [3.17367092e-02, 9.60783422e-01, 7.47993402e-03],\n",
       "       [2.61242408e-03, 9.77056444e-01, 2.03311592e-02],\n",
       "       [8.59373358e-07, 4.78139351e-04, 9.99521017e-01],\n",
       "       [3.25718174e-05, 1.12674870e-02, 9.88699973e-01],\n",
       "       [8.76937429e-06, 9.47700068e-03, 9.90514278e-01],\n",
       "       [3.78441000e-05, 2.23069619e-02, 9.77655172e-01],\n",
       "       [2.51808478e-06, 1.60257926e-03, 9.98394907e-01],\n",
       "       [1.15696594e-06, 1.92854798e-03, 9.98070300e-01],\n",
       "       [1.58500116e-04, 2.55977195e-02, 9.74243760e-01],\n",
       "       [1.18253529e-05, 1.61068831e-02, 9.83881235e-01],\n",
       "       [8.07787092e-06, 5.75550739e-03, 9.94236410e-01],\n",
       "       [3.31619776e-06, 4.24300693e-03, 9.95753646e-01],\n",
       "       [2.88972893e-04, 2.01122791e-01, 7.98588216e-01],\n",
       "       [3.95418683e-05, 2.26011183e-02, 9.77359354e-01],\n",
       "       [2.70897654e-05, 2.23466624e-02, 9.77626264e-01],\n",
       "       [1.11614900e-05, 3.20818508e-03, 9.96780634e-01],\n",
       "       [3.56367309e-06, 1.09442486e-03, 9.98901963e-01],\n",
       "       [2.05741089e-05, 1.23100318e-02, 9.87669408e-01],\n",
       "       [1.09121720e-04, 7.75854960e-02, 9.22305346e-01],\n",
       "       [8.05700984e-06, 1.84957683e-02, 9.81496155e-01],\n",
       "       [7.35131422e-08, 1.06108331e-04, 9.99893785e-01],\n",
       "       [1.53783025e-04, 5.95346726e-02, 9.40311551e-01],\n",
       "       [8.09751145e-06, 7.34659797e-03, 9.92645264e-01],\n",
       "       [4.37060007e-05, 1.28314784e-02, 9.87124741e-01],\n",
       "       [8.63558057e-07, 1.49026804e-03, 9.98508871e-01],\n",
       "       [2.91271572e-04, 1.54474437e-01, 8.45234275e-01],\n",
       "       [2.99852927e-05, 2.54119448e-02, 9.74558055e-01],\n",
       "       [8.92560056e-05, 1.23284347e-01, 8.76626372e-01],\n",
       "       [4.77450492e-04, 2.39122644e-01, 7.60399938e-01],\n",
       "       [5.29963174e-04, 2.61946321e-01, 7.37523735e-01],\n",
       "       [4.47847242e-06, 2.52308906e-03, 9.97472465e-01],\n",
       "       [2.68215226e-04, 3.66824955e-01, 6.32906854e-01],\n",
       "       [1.16459796e-05, 1.60846561e-02, 9.83903646e-01],\n",
       "       [1.05005514e-04, 2.96864271e-01, 7.03030765e-01],\n",
       "       [2.56380099e-06, 1.39075902e-03, 9.98606741e-01],\n",
       "       [7.93774496e-04, 4.83979374e-01, 5.15226781e-01],\n",
       "       [1.22486919e-04, 6.19691685e-02, 9.37908351e-01],\n",
       "       [2.91183505e-06, 4.87663224e-03, 9.95120466e-01],\n",
       "       [5.93413506e-06, 3.47752240e-03, 9.96516466e-01],\n",
       "       [1.29896973e-04, 8.77713040e-02, 9.12098765e-01],\n",
       "       [6.59996702e-04, 2.99847782e-01, 6.99492216e-01],\n",
       "       [6.69022775e-05, 6.13542609e-02, 9.38578784e-01],\n",
       "       [3.33158846e-06, 2.41108635e-03, 9.97585535e-01],\n",
       "       [6.61382292e-05, 5.61652482e-02, 9.43768620e-01],\n",
       "       [3.25718174e-05, 1.12674870e-02, 9.88699973e-01],\n",
       "       [2.99132444e-06, 2.53346702e-03, 9.97463584e-01],\n",
       "       [2.59177864e-06, 1.96796888e-03, 9.98029411e-01],\n",
       "       [2.24203450e-05, 1.57722551e-02, 9.84205306e-01],\n",
       "       [5.61560264e-05, 2.72995494e-02, 9.72644329e-01],\n",
       "       [1.02988008e-04, 6.73857480e-02, 9.32511210e-01],\n",
       "       [2.19070680e-05, 1.20663391e-02, 9.87911820e-01],\n",
       "       [2.06863449e-04, 8.81860554e-02, 9.11607027e-01]], dtype=float32)"
      ]
     },
     "metadata": {},
     "execution_count": 22
    }
   ],
   "source": [
    "pred"
   ]
  },
  {
   "cell_type": "code",
   "execution_count": 23,
   "metadata": {},
   "outputs": [
    {
     "output_type": "stream",
     "name": "stdout",
     "text": [
      "[[1. 0. 0.]\n [1. 0. 0.]\n [1. 0. 0.]\n [1. 0. 0.]\n [1. 0. 0.]\n [1. 0. 0.]\n [1. 0. 0.]\n [1. 0. 0.]\n [1. 0. 0.]\n [1. 0. 0.]\n [1. 0. 0.]\n [1. 0. 0.]\n [1. 0. 0.]\n [1. 0. 0.]\n [1. 0. 0.]\n [1. 0. 0.]\n [1. 0. 0.]\n [1. 0. 0.]\n [1. 0. 0.]\n [1. 0. 0.]\n [1. 0. 0.]\n [1. 0. 0.]\n [1. 0. 0.]\n [1. 0. 0.]\n [1. 0. 0.]\n [1. 0. 0.]\n [1. 0. 0.]\n [1. 0. 0.]\n [1. 0. 0.]\n [1. 0. 0.]\n [1. 0. 0.]\n [1. 0. 0.]\n [1. 0. 0.]\n [1. 0. 0.]\n [1. 0. 0.]\n [1. 0. 0.]\n [1. 0. 0.]\n [1. 0. 0.]\n [1. 0. 0.]\n [1. 0. 0.]\n [1. 0. 0.]\n [1. 0. 0.]\n [1. 0. 0.]\n [1. 0. 0.]\n [1. 0. 0.]\n [1. 0. 0.]\n [1. 0. 0.]\n [1. 0. 0.]\n [1. 0. 0.]\n [1. 0. 0.]\n [0. 1. 0.]\n [0. 1. 0.]\n [0. 1. 0.]\n [0. 1. 0.]\n [0. 1. 0.]\n [0. 1. 0.]\n [0. 1. 0.]\n [0. 1. 0.]\n [0. 1. 0.]\n [0. 1. 0.]\n [0. 1. 0.]\n [0. 1. 0.]\n [0. 1. 0.]\n [0. 1. 0.]\n [0. 1. 0.]\n [0. 1. 0.]\n [0. 1. 0.]\n [0. 1. 0.]\n [0. 1. 0.]\n [0. 1. 0.]\n [0. 1. 0.]\n [0. 1. 0.]\n [0. 1. 0.]\n [0. 1. 0.]\n [0. 1. 0.]\n [0. 1. 0.]\n [0. 1. 0.]\n [0. 1. 0.]\n [0. 1. 0.]\n [0. 1. 0.]\n [0. 1. 0.]\n [0. 1. 0.]\n [0. 1. 0.]\n [0. 1. 0.]\n [0. 1. 0.]\n [0. 1. 0.]\n [0. 1. 0.]\n [0. 1. 0.]\n [0. 1. 0.]\n [0. 1. 0.]\n [0. 1. 0.]\n [0. 1. 0.]\n [0. 1. 0.]\n [0. 1. 0.]\n [0. 1. 0.]\n [0. 1. 0.]\n [0. 1. 0.]\n [0. 1. 0.]\n [0. 1. 0.]\n [0. 1. 0.]\n [0. 0. 1.]\n [0. 0. 1.]\n [0. 0. 1.]\n [0. 0. 1.]\n [0. 0. 1.]\n [0. 0. 1.]\n [0. 0. 1.]\n [0. 0. 1.]\n [0. 0. 1.]\n [0. 0. 1.]\n [0. 0. 1.]\n [0. 0. 1.]\n [0. 0. 1.]\n [0. 0. 1.]\n [0. 0. 1.]\n [0. 0. 1.]\n [0. 0. 1.]\n [0. 0. 1.]\n [0. 0. 1.]\n [0. 0. 1.]\n [0. 0. 1.]\n [0. 0. 1.]\n [0. 0. 1.]\n [0. 0. 1.]\n [0. 0. 1.]\n [0. 0. 1.]\n [0. 0. 1.]\n [0. 0. 1.]\n [0. 0. 1.]\n [0. 0. 1.]\n [0. 0. 1.]\n [0. 0. 1.]\n [0. 0. 1.]\n [0. 0. 1.]\n [0. 0. 1.]\n [0. 0. 1.]\n [0. 0. 1.]\n [0. 0. 1.]\n [0. 0. 1.]\n [0. 0. 1.]\n [0. 0. 1.]\n [0. 0. 1.]\n [0. 0. 1.]\n [0. 0. 1.]\n [0. 0. 1.]\n [0. 0. 1.]\n [0. 0. 1.]\n [0. 0. 1.]\n [0. 0. 1.]\n [0. 0. 1.]]\n"
     ]
    }
   ],
   "source": [
    "# print y.  \n",
    "print(y)"
   ]
  },
  {
   "cell_type": "markdown",
   "metadata": {},
   "source": [
    "#### The column (pred) with the highest probability is  the prediction of the neural network.  \n",
    "\n",
    "#### Use argmax function to find the index of the maximum prediction for each row."
   ]
  },
  {
   "cell_type": "code",
   "execution_count": 24,
   "metadata": {},
   "outputs": [
    {
     "output_type": "stream",
     "name": "stdout",
     "text": [
      "Predictions: [0 0 0 0 0 0 0 0 0 0 0 0 0 0 0 0 0 0 0 0 0 0 0 0 0 0 0 0 0 0 0 0 0 0 0 0 0\n 0 0 0 0 0 0 0 0 0 0 0 0 0 1 1 1 1 1 1 1 1 1 1 1 1 1 1 1 1 1 1 2 1 2 1 2 1\n 1 1 1 1 1 1 1 1 1 2 1 1 1 1 1 1 1 1 1 1 1 1 1 1 1 1 2 2 2 2 2 2 2 2 2 2 2\n 2 2 2 2 2 2 2 2 2 2 2 2 2 2 2 2 2 2 2 2 2 2 2 2 2 2 2 2 2 2 2 2 2 2 2 2 2\n 2 2]\nTrue: [0 0 0 0 0 0 0 0 0 0 0 0 0 0 0 0 0 0 0 0 0 0 0 0 0 0 0 0 0 0 0 0 0 0 0 0 0\n 0 0 0 0 0 0 0 0 0 0 0 0 0 1 1 1 1 1 1 1 1 1 1 1 1 1 1 1 1 1 1 1 1 1 1 1 1\n 1 1 1 1 1 1 1 1 1 1 1 1 1 1 1 1 1 1 1 1 1 1 1 1 1 1 2 2 2 2 2 2 2 2 2 2 2\n 2 2 2 2 2 2 2 2 2 2 2 2 2 2 2 2 2 2 2 2 2 2 2 2 2 2 2 2 2 2 2 2 2 2 2 2 2\n 2 2]\n"
     ]
    }
   ],
   "source": [
    "# Usually the column (pred) with the highest prediction is considered to be the prediction of the neural network.  It is easy\n",
    "# to convert the predictions to the expected iris species.  The argmax function finds the index of the maximum prediction\n",
    "# for each row.\n",
    "\n",
    "predict_classes = np.argmax(pred,axis=1)\n",
    "\n",
    "true_classes = np.argmax(y,axis=1)\n",
    "\n",
    "print(\"Predictions: {}\".format(predict_classes))\n",
    "print(\"True: {}\".format(true_classes))"
   ]
  },
  {
   "cell_type": "code",
   "execution_count": 25,
   "metadata": {},
   "outputs": [
    {
     "output_type": "stream",
     "name": "stdout",
     "text": [
      "['Iris-setosa' 'Iris-setosa' 'Iris-setosa' 'Iris-setosa' 'Iris-setosa'\n 'Iris-setosa' 'Iris-setosa' 'Iris-setosa' 'Iris-setosa' 'Iris-setosa']\n"
     ]
    }
   ],
   "source": [
    "# Of course it is very easy to turn these indexes back into iris species.  We just use the species list that we created earlier.\n",
    "print(species[predict_classes[0:10]])"
   ]
  },
  {
   "cell_type": "code",
   "execution_count": 26,
   "metadata": {},
   "outputs": [
    {
     "output_type": "stream",
     "name": "stdout",
     "text": [
      "Accuracy: 0.9733333333333334\n"
     ]
    }
   ],
   "source": [
    "\n",
    "#For all of the iris predictions, what percent were correct?  \n",
    "\n",
    "correct = metrics.accuracy_score(true_classes, predict_classes)\n",
    "print(\"Accuracy: {}\".format(correct))"
   ]
  },
  {
   "cell_type": "markdown",
   "metadata": {},
   "source": [
    "The code below performs two ad hoc predictions.  \n",
    "\n",
    "*** Remember x should be a 2D array! ***"
   ]
  },
  {
   "cell_type": "code",
   "execution_count": 27,
   "metadata": {},
   "outputs": [
    {
     "output_type": "stream",
     "name": "stdout",
     "text": [
      "[[0.00133783 0.25021487 0.74844724]]\n"
     ]
    }
   ],
   "source": [
    "# ad hoc prediction\n",
    "sample_flower = np.array( [[5.0,3.0,4.0,2.0]], dtype=float)\n",
    "pred = model.predict(sample_flower)\n",
    "print(pred)"
   ]
  },
  {
   "cell_type": "code",
   "execution_count": 28,
   "metadata": {},
   "outputs": [
    {
     "output_type": "stream",
     "name": "stdout",
     "text": [
      "Predict that [[5. 3. 4. 2.]] is: ['Iris-virginica']\n"
     ]
    }
   ],
   "source": [
    "pred = np.argmax(pred, axis=1)\n",
    "print(\"Predict that {} is: {}\".format(sample_flower,species[pred]))"
   ]
  },
  {
   "cell_type": "markdown",
   "metadata": {},
   "source": [
    "Notice that the argmax in the second prediction requires **axis=1**?  Since we have a 2D array now, we must specify which axis to take the argmax over.  The value **axis=1** specifies we want the max column index for each row."
   ]
  },
  {
   "cell_type": "code",
   "execution_count": 29,
   "metadata": {},
   "outputs": [
    {
     "output_type": "stream",
     "name": "stdout",
     "text": [
      "[[1.3378350e-03 2.5021487e-01 7.4844730e-01]\n [9.8871827e-01 1.1263521e-02 1.8277293e-05]]\n"
     ]
    }
   ],
   "source": [
    "# predict two sample flowers\n",
    "sample_flower = np.array( [[5.0,3.0,4.0,2.0],[5.2,3.5,1.5,0.8]], dtype=float)\n",
    "pred = model.predict(sample_flower)\n",
    "print(pred)"
   ]
  },
  {
   "cell_type": "code",
   "execution_count": 30,
   "metadata": {},
   "outputs": [
    {
     "output_type": "stream",
     "name": "stdout",
     "text": [
      "Predict that [[5.  3.  4.  2. ]\n [5.2 3.5 1.5 0.8]] is: ['Iris-virginica' 'Iris-setosa']\n"
     ]
    }
   ],
   "source": [
    "pred = np.argmax(pred, axis=1)\n",
    "print(\"Predict that {} is: {}\".format(sample_flower,species[pred]))"
   ]
  },
  {
   "cell_type": "markdown",
   "metadata": {
    "collapsed": true
   },
   "source": [
    "# Load/Save Trained Network\n",
    "\n",
    "Complex neural networks will take a long time to fit/train.  It is helpful to be able to save these neural networks so that they can be reloaded later.  A reloaded neural network will not require retraining.  Keras provides three formats for neural network saving.\n",
    "\n",
    "* **YAML** - Stores the neural network structure (no weights) in the [YAML file format](https://en.wikipedia.org/wiki/YAML).\n",
    "* **JSON** - Stores the neural network structure (no weights) in the [JSON file format](https://en.wikipedia.org/wiki/JSON).\n",
    "* **HDF5** - Stores the complete neural network (with weights) in the [HDF5 file format](https://en.wikipedia.org/wiki/Hierarchical_Data_Format). \n",
    "\n",
    "Usually you will want to save in HDF5."
   ]
  },
  {
   "cell_type": "code",
   "execution_count": 31,
   "metadata": {},
   "outputs": [
    {
     "output_type": "stream",
     "name": "stdout",
     "text": [
      "Before save score (RMSE): 4.713438987731934\n"
     ]
    }
   ],
   "source": [
    "from tensorflow.keras.models import Sequential\n",
    "from tensorflow.keras.layers import Dense, Activation\n",
    "import pandas as pd\n",
    "import io\n",
    "import requests\n",
    "import numpy as np\n",
    "from sklearn import metrics\n",
    "path = \"./data/\"\n",
    "save_path = \"./dnn/\"\n",
    "\n",
    "filename_read = os.path.join(path,\"auto-mpg.csv\")\n",
    "df = pd.read_csv(filename_read,na_values=['NA','?'])\n",
    "\n",
    "cars = df['name']\n",
    "df.drop('name',1,inplace=True)\n",
    "missing_median(df, 'horsepower')\n",
    "x,y = to_xy(df,\"mpg\")\n",
    "model = Sequential()\n",
    "model.add(Dense(50, input_dim=x.shape[1], activation='relu')) # Hidden 1\n",
    "model.add(Dense(25, activation='relu')) # Hidden 2\n",
    "model.add(Dense(1)) # Output\n",
    "model.compile(loss='mean_squared_error', optimizer='adam')\n",
    "model.fit(x,y,verbose=0,epochs=100)\n",
    "\n",
    "# Predict\n",
    "pred = model.predict(x)\n",
    "\n",
    "# Measure RMSE error.  RMSE is common for regression.\n",
    "score = np.sqrt(metrics.mean_squared_error(pred,y))\n",
    "print(\"Before save score (RMSE): {}\".format(score))\n",
    "\n",
    "\n",
    "# save entire network to HDF5 (save everything)\n",
    "model.save(os.path.join(save_path,\"network.hdf5\"))"
   ]
  },
  {
   "cell_type": "markdown",
   "metadata": {},
   "source": [
    "Now we reload the network and perform another prediction.  The RMSE should match the previous one exactly if the neural network was really saved and reloaded."
   ]
  },
  {
   "cell_type": "code",
   "execution_count": 32,
   "metadata": {},
   "outputs": [
    {
     "output_type": "stream",
     "name": "stdout",
     "text": [
      "After load score (RMSE): 4.713438987731934\n"
     ]
    }
   ],
   "source": [
    "from tensorflow.keras.models import load_model\n",
    "\n",
    "model2 = load_model(os.path.join(save_path,\"network.hdf5\"))\n",
    "pred = model2.predict(x)\n",
    "# Measure RMSE error.  RMSE is common for regression.\n",
    "score = np.sqrt(metrics.mean_squared_error(pred,y))\n",
    "print(\"After load score (RMSE): {}\".format(score))"
   ]
  },
  {
   "cell_type": "markdown",
   "metadata": {},
   "source": [
    "### References:\n",
    "\n",
    "* [Google Colab](https://colab.research.google.com/) - Free web based platform that includes Python, Juypter Notebooks, and TensorFlow with free GPU support.  No setup needed.\n",
    "* [IBM Cognitive Class Labs](https://www.datascientistworkbench.com) - Free web based platform that includes Python, Juypter Notebooks, and TensorFlow.  No setup needed.\n",
    "* [Python Anaconda](https://www.continuum.io/downloads) - Python distribution that includes many data science packages, such as Numpy, Scipy, Scikit-Learn, Pandas, and much more.\n",
    "* [TensorFlow](https://www.tensorflow.org/) - Google's mathematics package for deep learning.\n",
    "* [Kaggle](https://www.kaggle.com/) - Competitive data science.  Good source of sample data.\n",
    "* T81-558: Applications of Deep Neural Networks. Instructor: [Jeff Heaton](https://sites.wustl.edu/jeffheaton/)"
   ]
  }
 ],
 "metadata": {
  "anaconda-cloud": {},
  "kernelspec": {
   "display_name": "Python 3",
   "language": "python",
   "name": "python3"
  },
  "language_info": {
   "codemirror_mode": {
    "name": "ipython",
    "version": 3
   },
   "file_extension": ".py",
   "mimetype": "text/x-python",
   "name": "python",
   "nbconvert_exporter": "python",
   "pygments_lexer": "ipython3",
   "version": "3.8.5-final"
  }
 },
 "nbformat": 4,
 "nbformat_minor": 1
}